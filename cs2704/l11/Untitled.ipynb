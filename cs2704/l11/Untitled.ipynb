{
 "cells": [
  {
   "cell_type": "code",
   "execution_count": 1,
   "metadata": {},
   "outputs": [],
   "source": [
    "from tornado.web import RequestHandler, Application\n",
    "\n",
    "class MainHandler(RequestHandler):\n",
    "  def get(self):\n",
    "    y = [(i,j,i*j) for i in range(2,20) for j in range(1,20)]\n",
    "    self.render(\"index.html\", data=y)\n",
    "\n",
    "def make_app():\n",
    "  return Application([\n",
    "    (r\"/\", MainHandler),\n",
    "  ])\n",
    "\n",
    "if __name__ == \"__main__\":\n",
    "  app = make_app()\n",
    "  app.listen(8080)"
   ]
  },
  {
   "cell_type": "code",
   "execution_count": 1,
   "metadata": {},
   "outputs": [],
   "source": [
    "from tornado.web import RequestHandler, Application\n",
    "\n",
    "class MainHandler(RequestHandler):\n",
    "  def get(self):\n",
    "    self.render(\"index2.html\")\n",
    "    \n",
    "class TableHandler(RequestHandler):\n",
    "  def post(self):\n",
    "    midterm = float(self.get_body_argument(\"midterm\"))\n",
    "    final = float(self.get_body_argument(\"final\"))\n",
    "    self.render(\"sum.html\", data=(midterm,final,midterm+final))\n",
    "\n",
    "def make_app():\n",
    "  return Application([\n",
    "    (r\"/\", MainHandler),\n",
    "    (r\"/sum\", TableHandler)\n",
    "  ])\n",
    "\n",
    "if __name__ == \"__main__\":\n",
    "  app = make_app()\n",
    "  app.listen(8080)\n"
   ]
  },
  {
   "cell_type": "code",
   "execution_count": null,
   "metadata": {},
   "outputs": [],
   "source": []
  }
 ],
 "metadata": {
  "kernelspec": {
   "display_name": "Python 3",
   "language": "python",
   "name": "python3"
  },
  "language_info": {
   "codemirror_mode": {
    "name": "ipython",
    "version": 3
   },
   "file_extension": ".py",
   "mimetype": "text/x-python",
   "name": "python",
   "nbconvert_exporter": "python",
   "pygments_lexer": "ipython3",
   "version": "3.7.7"
  }
 },
 "nbformat": 4,
 "nbformat_minor": 4
}
