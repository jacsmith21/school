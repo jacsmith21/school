{
 "cells": [
  {
   "cell_type": "code",
   "execution_count": 1,
   "metadata": {},
   "outputs": [
    {
     "name": "stdout",
     "output_type": "stream",
     "text": [
      "Requirement already satisfied: tornado in /Users/jacob/Library/Python/3.7/lib/python/site-packages (6.0.4)\n",
      "Note: you may need to restart the kernel to use updated packages.\n"
     ]
    }
   ],
   "source": [
    "%pip install tornado"
   ]
  },
  {
   "cell_type": "code",
   "execution_count": 2,
   "metadata": {},
   "outputs": [],
   "source": [
    "import random\n",
    "\n",
    "class Game:\n",
    "  def __init__(self):\n",
    "    self.x = 3\n",
    "    self.y = 4\n",
    "    self.op = 1\n",
    "  \n",
    "  def op_str(self):\n",
    "    if self.op == 1:\n",
    "      return '+'\n",
    "    elif self.op == 2:\n",
    "      return '-'\n",
    "    elif self.op == 3:\n",
    "      return '*'\n",
    "    else:\n",
    "      return None\n",
    "\n",
    "  def new_game(self):\n",
    "    self.x = random.randint(1,9)\n",
    "    self.y = random.randint(1,9)\n",
    "    self.op = random.randint(1,3)\n",
    "\n",
    "  def answer(self):\n",
    "    if self.op == 1:\n",
    "      return self.x + self.y\n",
    "    elif self.op == 2:\n",
    "      return self.x - self.y\n",
    "    elif self.op == 3:\n",
    "      return self.x * self.y\n",
    "    else:\n",
    "      return None\n",
    "\n",
    "game = Game()"
   ]
  },
  {
   "cell_type": "code",
   "execution_count": 5,
   "metadata": {},
   "outputs": [
    {
     "name": "stdout",
     "output_type": "stream",
     "text": [
      "What is 3+4?4\n",
      "Your answer 4 is wrong.\n",
      "3+4 = 7\n"
     ]
    }
   ],
   "source": [
    "question = str(game.x) + game.op_str() + str(game.y)\n",
    "a = game.answer()\n",
    "b = input('What is ' + question + '?')\n",
    "if str(a) == b:\n",
    "  print('correct')\n",
    "else:\n",
    "  print('Your answer',b,'is','wrong.')\n",
    "  print(question,\"=\",a)"
   ]
  },
  {
   "cell_type": "code",
   "execution_count": 8,
   "metadata": {},
   "outputs": [
    {
     "data": {
      "text/plain": [
       "['1', '2', '3', '4']"
      ]
     },
     "execution_count": 8,
     "metadata": {},
     "output_type": "execute_result"
    }
   ],
   "source": [
    "'1,,2,,3,,4'.split(',,')"
   ]
  },
  {
   "cell_type": "code",
   "execution_count": 12,
   "metadata": {},
   "outputs": [],
   "source": [
    "def username(str):\n",
    "    return str.split('@')[0] if '@' in str else None"
   ]
  },
  {
   "cell_type": "code",
   "execution_count": 15,
   "metadata": {},
   "outputs": [],
   "source": [
    "username(\"billgmicrosoft.com\")"
   ]
  },
  {
   "cell_type": "code",
   "execution_count": 17,
   "metadata": {},
   "outputs": [
    {
     "data": {
      "text/plain": [
       "False"
      ]
     },
     "execution_count": 17,
     "metadata": {},
     "output_type": "execute_result"
    }
   ],
   "source": [
    "'@' in 'billsdjfldfjlsdjf'"
   ]
  },
  {
   "cell_type": "code",
   "execution_count": null,
   "metadata": {},
   "outputs": [],
   "source": []
  }
 ],
 "metadata": {
  "kernelspec": {
   "display_name": "Python 3",
   "language": "python",
   "name": "python3"
  },
  "language_info": {
   "codemirror_mode": {
    "name": "ipython",
    "version": 3
   },
   "file_extension": ".py",
   "mimetype": "text/x-python",
   "name": "python",
   "nbconvert_exporter": "python",
   "pygments_lexer": "ipython3",
   "version": "3.7.7"
  }
 },
 "nbformat": 4,
 "nbformat_minor": 4
}
